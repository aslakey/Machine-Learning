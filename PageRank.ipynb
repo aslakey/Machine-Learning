{
 "cells": [
  {
   "cell_type": "code",
   "execution_count": 1,
   "metadata": {
    "collapsed": false
   },
   "outputs": [
    {
     "name": "stdout",
     "output_type": "stream",
     "text": [
      "page rank\n"
     ]
    }
   ],
   "source": [
    "print(\"page rank\")"
   ]
  },
  {
   "cell_type": "code",
   "execution_count": 29,
   "metadata": {
    "collapsed": false
   },
   "outputs": [
    {
     "data": {
      "text/plain": [
       "matrix([[ 0.39679058,  0.198903  ,  0.39848142,  0.00166667,  0.00249167,\n",
       "          0.00166667]])"
      ]
     },
     "execution_count": 29,
     "metadata": {},
     "output_type": "execute_result"
    }
   ],
   "source": [
    "import numpy as np\n",
    "import scipy\n",
    "import pandas as pd\n",
    "#sparse_B = scipy.sparse.csr_matrix(B)\n",
    "#PR algo: where Q = sparse transition matrix, D = dense matrix 1/n,\n",
    "#pi = long run probabilities (rank), and eps = probability of going to any page randomly\n",
    "# pi = pi * [(1-eps)*Q + eps*D]\n",
    "\n",
    "#numpy help\n",
    "#X = 5 * np.random.rand(n, factors)\n",
    "#X[u] = np.linalg.solve(np.dot(Y, np.dot(np.diag(Wu), Y.T)) + lambda_ * np.eye(factors),\n",
    "        #np.dot(Y, np.dot(np.diag(Wu), Q[u].T))).T\n",
    "def PageRank(Q):\n",
    "    '''\n",
    "    Input: a rate matrix Q that is \n",
    "    Qij = 1/sum(links in row i) \n",
    "    if i has link to j\n",
    "    Output: Page rank vector 1xN\n",
    "    '''\n",
    "    num_iterations = 20\n",
    "    eps = .01\n",
    "    n, d = Q.shape #grab other dimensions from Q\n",
    "    D = np.ones(shape=(n,d))/n #D is rate matrix if any site is possibility\n",
    "    pi = np.ones(shape=(1,n))/n #initialize pi as every page equal\n",
    "    #PR Algo\n",
    "    for i in range(0,num_iterations):\n",
    "        pi = np.dot(pi,((1-eps)*Q + eps*D))\n",
    "    return (pi)\n",
    "#just hardcoding sorry\n",
    "Q = np.matrix([[0,.5,.5,0,0,0],[0,0,1,0,0,0],[1,0,0,0,0,0],[.5,0,.5,0,0,0],[0,0,1,0,0,0],[0,.5,0,0,.5,0]])\n",
    "PageRank(Q)"
   ]
  },
  {
   "cell_type": "code",
   "execution_count": null,
   "metadata": {
    "collapsed": true
   },
   "outputs": [],
   "source": []
  }
 ],
 "metadata": {
  "kernelspec": {
   "display_name": "Python 3",
   "language": "python",
   "name": "python3"
  },
  "language_info": {
   "codemirror_mode": {
    "name": "ipython",
    "version": 3
   },
   "file_extension": ".py",
   "mimetype": "text/x-python",
   "name": "python",
   "nbconvert_exporter": "python",
   "pygments_lexer": "ipython3",
   "version": "3.4.4"
  }
 },
 "nbformat": 4,
 "nbformat_minor": 0
}
