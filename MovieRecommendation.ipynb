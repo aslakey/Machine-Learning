{
 "cells": [
  {
   "cell_type": "code",
   "execution_count": 1,
   "metadata": {
    "collapsed": false
   },
   "outputs": [
    {
     "name": "stdout",
     "output_type": "stream",
     "text": [
      "netflix recommendation code\n"
     ]
    }
   ],
   "source": [
    "print(\"netflix recommendation code\")"
   ]
  },
  {
   "cell_type": "code",
   "execution_count": 33,
   "metadata": {
    "collapsed": false
   },
   "outputs": [
    {
     "data": {
      "text/plain": [
       "array([[ 0.,  0.,  0., ...,  0.,  0.,  0.],\n",
       "       [ 0.,  0.,  0., ...,  0.,  0.,  0.],\n",
       "       [ 0.,  0.,  0., ...,  0.,  0.,  1.],\n",
       "       ..., \n",
       "       [ 0.,  0.,  0., ...,  0.,  0.,  0.],\n",
       "       [ 0.,  0.,  0., ...,  0.,  0.,  0.],\n",
       "       [ 0.,  0.,  0., ...,  0.,  0.,  0.]])"
      ]
     },
     "execution_count": 33,
     "metadata": {},
     "output_type": "execute_result"
    }
   ],
   "source": [
    "import pandas as pd\n",
    "import numpy as np\n",
    "import matplotlib.pyplot as plt\n",
    "'''\n",
    "movies <- read.table(\"u.item\", sep = \"|\", header = FALSE, stringsAsFactors = FALSE, quote=\"\")\n",
    "movies <- movies[,c(1,2)]\n",
    "names(movies) <- c(\"movieid\",\"movie\")\n",
    "\n",
    "rank   <- read.table(\"u.data\", sep = \"\\t\", header = FALSE, stringsAsFactors = FALSE,\n",
    "                     col.names = c(\"userid\",\"movieid\",\"rating\",\"ts\"))\n",
    "'''\n",
    "#read tables\n",
    "rating_cols = [\"userid\",\"movieid\",\"rating\",\"ts\"]\n",
    "movie_cols = [\"movieid\",\"movie\",]\n",
    "ratings = pd.read_table('/Users/aslakey/Desktop/u.data',sep='\\t',header=None, names=rating_cols)\n",
    "movies = pd.read_table('/Users/aslakey/Desktop/u.item',sep='|',header=None,encoding = \"ISO-8859-1\")\n",
    "ratings.head()\n",
    "movies = movies.rename(columns={0: 'movieid', 1: 'movie'})\n",
    "movies.head()\n",
    "#join tables by movie id\n",
    "df = movies.join(ratings, on=['movieid'], rsuffix='_r')\n",
    "df.head()\n",
    "#pivot table with cols= movies, rows= users, vals=ratings\n",
    "rp = df.pivot_table(columns=['movieid'],index=['userid'],values='rating')\n",
    "rp.head()\n",
    "#convert NA's to 0. very sparse\n",
    "rp = rp.fillna(0);\n",
    "#make this into a numpy matrix:\n",
    "Q = rp.values\n",
    "Q #NxD matrix we wish to factor into X (users) and Y(movies) based on rated movies\n"
   ]
  },
  {
   "cell_type": "code",
   "execution_count": 57,
   "metadata": {
    "collapsed": false,
    "scrolled": true
   },
   "outputs": [
    {
     "name": "stdout",
     "output_type": "stream",
     "text": [
      "0th iteration is completed\n",
      "1th iteration is completed\n",
      "2th iteration is completed\n",
      "3th iteration is completed\n",
      "4th iteration is completed\n",
      "5th iteration is completed\n",
      "6th iteration is completed\n",
      "7th iteration is completed\n",
      "8th iteration is completed\n",
      "9th iteration is completed\n",
      "10th iteration is completed\n",
      "11th iteration is completed\n",
      "12th iteration is completed\n",
      "13th iteration is completed\n",
      "14th iteration is completed\n",
      "[0.2250982789356766, 0.11808427470249522, 0.077860678814641759, 0.056170702685553305, 0.042860555904640212, 0.034012012479305583, 0.02779215214580609, 0.023234780568115714, 0.019786035217702374, 0.017107793722692374, 0.014983200907872724, 0.013267518740862631, 0.011860902977283748, 0.010692536651557472, 0.0097109823340092456]\n"
     ]
    },
    {
     "data": {
      "text/plain": [
       "[<matplotlib.lines.Line2D at 0x1078be2b0>]"
      ]
     },
     "execution_count": 57,
     "metadata": {},
     "output_type": "execute_result"
    },
    {
     "data": {
      "image/png": "[encoded data removed]",
      "text/plain": [
       "<matplotlib.figure.Figure at 0x107bf98d0>"
      ]
     },
     "metadata": {},
     "output_type": "display_data"
    }
   ],
   "source": [
    "#error calculation\n",
    "def get_error(Q, X, Y, W):\n",
    "    return (np.sum((W * (Q - np.dot(X, Y)))**2)/np.count_nonzero(W))\n",
    "            \n",
    "#Alternating Least Squares Algo            \n",
    "def ALS(Q):\n",
    "    factors = 5 #dimensions of PCA factorization\n",
    "    lambda_ = 0.1 #set reguralization term, also helps inverting\n",
    "    n, d = Q.shape #grab other dimensions from Q\n",
    "    n_iterations = 15\n",
    "    #intialize W that will give no wieght to missing data\n",
    "    W = Q>0.5\n",
    "    W[W == True] = 1\n",
    "    W[W == False] = 0\n",
    "    # To be consistent with our Q matrix\n",
    "    W = W.astype(np.float64, copy=False)\n",
    "    #initialize X and Y\n",
    "    X = 5 * np.random.rand(n, factors) #5 times random between 0 and 1\n",
    "    Y = 5 * np.random.rand(factors, d)\n",
    "\n",
    "    #begin iteration:\n",
    "    weighted_errors = []\n",
    "    for ii in range(n_iterations):\n",
    "        for u, Wu in enumerate(W):\n",
    "            X[u] = np.linalg.solve(np.dot(Y, np.dot(np.diag(Wu), Y.T)) + lambda_ * np.eye(factors),\n",
    "                        np.dot(Y, np.dot(np.diag(Wu), Q[u].T))).T\n",
    "        for i, Wi in enumerate(W.T):\n",
    "            Y[:,i] = np.linalg.solve(np.dot(X.T, np.dot(np.diag(Wi), X)) + lambda_ * np.eye(factors),\n",
    "                        np.dot(X.T, np.dot(np.diag(Wi), Q[:, i])))\n",
    "        weighted_errors.append(get_error(Q, X, Y, W))\n",
    "        print('{}th iteration is completed'.format(ii))\n",
    "    Q_hat = np.dot(X,Y)\n",
    "    return(Q_hat,weighted_errors)\n",
    "Q_hat,weighted_errors = ALS(Q)\n",
    "print(weighted_errors)\n",
    "%matplotlib inline\n",
    "plt.plot(weighted_errors)  "
   ]
  },
  {
   "cell_type": "code",
   "execution_count": 55,
   "metadata": {
    "collapsed": false
   },
   "outputs": [
    {
     "name": "stdout",
     "output_type": "stream",
     "text": [
      "[0.24783965262903465, 0.12514525787639644, 0.080902942353394694, 0.057735903894051671, 0.04375816328993163, 0.034566670479264414, 0.028154299723839989, 0.02348153007492719, 0.019959995497745294, 0.017233924351498797]\n"
     ]
    },
    {
     "data": {
      "image/png": "[encoded data removed]",
      "text/plain": [
       "<matplotlib.figure.Figure at 0x108f2b710>"
      ]
     },
     "metadata": {},
     "output_type": "display_data"
    }
   ],
   "source": [
    "Q_hat\n",
    "print(weighted_errors)\n",
    "%matplotlib inline\n",
    "plt.plot(weighted_errors)\n",
    "#plt.xlabel('Iteration Number');\n",
    "#plt.ylabel('Mean Squared Error');"
   ]
  },
  {
   "cell_type": "code",
   "execution_count": null,
   "metadata": {
    "collapsed": true
   },
   "outputs": [],
   "source": []
  }
 ],
 "metadata": {
  "kernelspec": {
   "display_name": "Python 3",
   "language": "python",
   "name": "python3"
  },
  "language_info": {
   "codemirror_mode": {
    "name": "ipython",
    "version": 3
   },
   "file_extension": ".py",
   "mimetype": "text/x-python",
   "name": "python",
   "nbconvert_exporter": "python",
   "pygments_lexer": "ipython3",
   "version": "3.4.3"
  }
 },
 "nbformat": 4,
 "nbformat_minor": 0
}
